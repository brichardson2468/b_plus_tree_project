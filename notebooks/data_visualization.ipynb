{
 "cells": [
  {
   "cell_type": "code",
   "execution_count": null,
   "metadata": {},
   "outputs": [],
   "source": [
    "import pandas as pd\n",
    "import matplotlib.pyplot as plt"
   ]
  },
  {
   "cell_type": "code",
   "execution_count": null,
   "metadata": {},
   "outputs": [],
   "source": [
    "# Make sure the path corresponds to where main.py script saves the file\n",
    "data_path = '../temp/search_results.csv'\n",
    "data = pd.read_csv(data_path)\n",
    "\n",
    "# Display the first few rows of the data to verify it loaded correctly\n",
    "print(data.head())"
   ]
  },
  {
   "cell_type": "code",
   "execution_count": null,
   "metadata": {},
   "outputs": [],
   "source": [
    "# Assuming you want to compare the average 'Value' across 'States'\n",
    "average_values = data.groupby('State')['Value'].mean()\n",
    "states = average_values.index\n",
    "values = average_values.values\n",
    "\n",
    "plt.figure(figsize=(10, 6))\n",
    "plt.bar(states, values, color='skyblue')\n",
    "plt.title('Average Value by State for Selected Start Date')\n",
    "plt.xlabel('State')\n",
    "plt.ylabel('Average Value')\n",
    "plt.xticks(rotation=45)  # Rotates the state names for better visibility\n",
    "plt.tight_layout()  # Adjusts subplots to give some more room\n",
    "plt.show()"
   ]
  }
 ],
 "metadata": {
  "kernelspec": {
   "display_name": "Python 3",
   "language": "python",
   "name": "python3"
  },
  "language_info": {
   "name": "python",
   "version": "3.11.2"
  }
 },
 "nbformat": 4,
 "nbformat_minor": 2
}
